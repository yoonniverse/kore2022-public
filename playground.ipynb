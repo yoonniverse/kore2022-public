{
 "cells": [
  {
   "cell_type": "code",
   "execution_count": 1,
   "id": "ee7a6e3a-3363-47d8-85f1-da6fff670c05",
   "metadata": {},
   "outputs": [],
   "source": [
    "from pathlib import Path\n",
    "import numpy as np\n",
    "import torch\n",
    "import json\n",
    "import joblib\n",
    "from kaggle_environments import make\n",
    "from kaggle_environments.envs.kore_fleets.kore_fleets import do_nothing_agent\n",
    "from kaggle_environments.envs.kore_fleets.helpers import Board, Point, ShipyardAction, Shipyard, Fleet, Direction\n",
    "import copy\n",
    "import matplotlib.pyplot as plt\n",
    "import seaborn as sns\n",
    "import gym\n",
    "from collections import deque\n",
    "\n",
    "from env import Kore2022, get_stats_from_env\n",
    "from processors import process_obs, process_action, deprocess_action, get_expected_kores_mined_per_step, get_attack_feature\n",
    "from preprocess_data import process_one\n",
    "from agent import Agent\n",
    "from configs import configs\n",
    "from utils import *\n",
    "from net import Categorical"
   ]
  },
  {
   "cell_type": "code",
   "execution_count": 2,
   "id": "166e42c5-6173-48ee-b7d2-e579a8de0b74",
   "metadata": {
    "tags": []
   },
   "outputs": [
    {
     "name": "stderr",
     "output_type": "stream",
     "text": [
      "/home/kimyoonsoo/anaconda3/envs/kore2022/lib/python3.8/site-packages/ipykernel/ipkernel.py:283: DeprecationWarning: `should_run_async` will not call `transform_cell` automatically in the future. Please pass the result to `transformed_cell` argument and any exception that happen during thetransform in `preprocessing_exc_tuple` in IPython 7.17 and above.\n",
      "  and should_run_async(code)\n"
     ]
    }
   ],
   "source": [
    "for path in Path('data/raw').glob('*.json'):\n",
    "    path = str(path)\n",
    "    if 'info' not in path:\n",
    "        with open(path, 'r') as f:\n",
    "            match = json.load(f)\n",
    "        if len(match['steps']) > 300:\n",
    "            break"
   ]
  },
  {
   "cell_type": "code",
   "execution_count": 3,
   "id": "515a4cfd-f98a-4550-a16a-5dfd3e7f4ba4",
   "metadata": {},
   "outputs": [],
   "source": [
    "step = 310\n",
    "player = np.argmax(match['rewards'])\n",
    "conf = match['configuration']\n",
    "obs = match['steps'][step][0]['observation']\n",
    "obs['player'] = player\n",
    "action = match['steps'][step+1][player]['action']"
   ]
  },
  {
   "cell_type": "code",
   "execution_count": 4,
   "id": "d4d8d1e4-f5af-4f30-ab41-3e90ccfc058c",
   "metadata": {},
   "outputs": [],
   "source": [
    "board = Board(obs, conf)"
   ]
  },
  {
   "cell_type": "code",
   "execution_count": null,
   "id": "38c64de2-f3ff-4873-a95f-3cca2ab3b7fd",
   "metadata": {},
   "outputs": [],
   "source": [
    "board = board.next()"
   ]
  },
  {
   "cell_type": "code",
   "execution_count": 25,
   "id": "bf984710-a6bb-446d-8059-94c0ff9a2116",
   "metadata": {},
   "outputs": [
    {
     "data": {
      "text/plain": [
       "[6382.8319325396815,\n",
       " {'0-2': [330, 0, 310],\n",
       "  '111-3': [324, 0, 199],\n",
       "  '140-2': [285, 0, 170],\n",
       "  '147-3': [269, 0, 163],\n",
       "  '177-5': [388, 0, 133],\n",
       "  '223-4': [203, 0, 87],\n",
       "  '230-3': [96, 62, 81],\n",
       "  '264-2': [255, 0, 47],\n",
       "  '271-4': [66, 0, 40],\n",
       "  '278-6': [147, 0, 33],\n",
       "  '281-3': [423, 0, 30],\n",
       "  '282-7': [42, 0, 29],\n",
       "  '285-5': [156, 16, 25],\n",
       "  '290-2': [123, 0, 20],\n",
       "  '292-5': [30, 0, 18],\n",
       "  '308-6': [215, 36, 3]},\n",
       " {'299-1': [91, 114.741, 8, 3, 'E'],\n",
       "  '299-3': [99, 98.85599999999998, 21, 3, ''],\n",
       "  '299-4': [138, 125.358, 22, 0, ''],\n",
       "  '300-2': [338, 151.98499999999999, 21, 3, '7NW'],\n",
       "  '300-5': [87, 149.384, 21, 0, ''],\n",
       "  '301-1': [339, 86.494, 9, 1, 'N'],\n",
       "  '301-2': [252, 42.28600000000001, 8, 1, ''],\n",
       "  '302-1': [276, 88.177, 14, 0, ''],\n",
       "  '303-2': [101, 70.391, 21, 0, '2ES'],\n",
       "  '306-2': [177, 144.641, 13, 1, 'N'],\n",
       "  '306-3': [60, 76.371, 10, 1, 'S'],\n",
       "  '306-4': [29, 71.98599999999999, 18, 2, 'E'],\n",
       "  '307-1': [94, 19.263, 13, 2, '3W'],\n",
       "  '307-3': [176, 95.894, 21, 1, '1N'],\n",
       "  '307-4': [187, 55.182, 22, 2, 'E1N'],\n",
       "  '308-1': [159, 0.035, 8, 2, '1W2N'],\n",
       "  '308-2': [214, 0, 5, 1, ''],\n",
       "  '308-3': [148, 28.908, 8, 2, 'W'],\n",
       "  '308-4': [133, 84.109, 21, 0, 'SE'],\n",
       "  '308-5': [67, 88.883, 57, 0, 'W'],\n",
       "  '309-2': [154, 15.512, 21, 3, 'S8N3W'],\n",
       "  '310-1': [256, 0, 5, 1, 'SNW'],\n",
       "  '310-2': [168, 5.613, 13, 2, 'E2W2N'],\n",
       "  '310-3': [135, 0, 10, 0, '1E2N']}]"
      ]
     },
     "execution_count": 25,
     "metadata": {},
     "output_type": "execute_result"
    }
   ],
   "source": [
    "obs['players'][player]"
   ]
  },
  {
   "cell_type": "code",
   "execution_count": 26,
   "id": "26f27ba8-8dba-45a0-9612-3b53a4b046be",
   "metadata": {},
   "outputs": [
    {
     "name": "stdout",
     "output_type": "stream",
     "text": [
      "CPU times: user 736 ms, sys: 1.32 ms, total: 737 ms\n",
      "Wall time: 741 ms\n"
     ]
    }
   ],
   "source": [
    "%%time\n",
    "policy_input, value_input, mask = process_obs(obs, conf)\n",
    "raw_action = deprocess_action(action, obs, conf)"
   ]
  },
  {
   "cell_type": "code",
   "execution_count": 27,
   "id": "5a71a202-8dfa-466d-93da-8fb7bd90e17e",
   "metadata": {},
   "outputs": [
    {
     "name": "stdout",
     "output_type": "stream",
     "text": [
      "(array([10]), array([5]))\n",
      "(array([], dtype=int64), array([], dtype=int64))\n"
     ]
    }
   ],
   "source": [
    "print(np.where(policy_input[0, 16] != policy_input[0, 3]))\n",
    "print(np.where(policy_input[0, 17] != policy_input[0, 10]))"
   ]
  },
  {
   "cell_type": "code",
   "execution_count": 28,
   "id": "a2c82890-7dd9-409b-8936-1d20877cd42b",
   "metadata": {},
   "outputs": [
    {
     "data": {
      "text/plain": [
       "{'0-2': '',\n",
       " '111-3': '',\n",
       " '140-2': '',\n",
       " '147-3': '',\n",
       " '177-5': '',\n",
       " '223-4': '',\n",
       " '230-3': 'LAUNCH_21_N1E3S1W',\n",
       " '264-2': '',\n",
       " '271-4': '',\n",
       " '278-6': '',\n",
       " '281-3': '',\n",
       " '282-7': '',\n",
       " '285-5': 'LAUNCH_16_W1SE1N',\n",
       " '290-2': '',\n",
       " '292-5': '',\n",
       " '308-6': 'SPAWN_2'}"
      ]
     },
     "execution_count": 28,
     "metadata": {},
     "output_type": "execute_result"
    }
   ],
   "source": [
    "process_action(raw_action, obs, conf)"
   ]
  },
  {
   "cell_type": "code",
   "execution_count": null,
   "id": "fb524476-8f69-47ff-95d7-5c8729dd7a5c",
   "metadata": {},
   "outputs": [],
   "source": []
  }
 ],
 "metadata": {
  "kernelspec": {
   "display_name": "Python 3",
   "language": "python",
   "name": "python3"
  },
  "language_info": {
   "codemirror_mode": {
    "name": "ipython",
    "version": 3
   },
   "file_extension": ".py",
   "mimetype": "text/x-python",
   "name": "python",
   "nbconvert_exporter": "python",
   "pygments_lexer": "ipython3",
   "version": "3.8.13"
  }
 },
 "nbformat": 4,
 "nbformat_minor": 5
}
